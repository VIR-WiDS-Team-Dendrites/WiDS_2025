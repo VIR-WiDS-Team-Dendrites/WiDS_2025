{
  "cells": [
    {
      "cell_type": "markdown",
      "metadata": {
        "id": "P5T7hQpPwtKO"
      },
      "source": [
        "\n",
        "Go to this website for steo by step instructions on how to download data: https://www.kaggle.com/discussions/general/74235\n"
      ]
    },
    {
      "cell_type": "code",
      "execution_count": null,
      "metadata": {
        "id": "OH4vnJLV_kc6"
      },
      "outputs": [],
      "source": [
        "import os\n",
        "import zipfile\n",
        "import pandas as pd\n",
        "import numpy as np\n",
        "import matplotlib.pyplot as plt\n",
        "import seaborn as sns\n",
        "import torch\n",
        "import torch.nn as nn\n",
        "from sklearn.metrics import confusion_matrix\n",
        "from sklearn.impute import KNNImputer\n",
        "from sklearn.decomposition import PCA\n",
        "from sklearn.ensemble import RandomForestClassifier"
      ]
    },
    {
      "cell_type": "code",
      "execution_count": null,
      "metadata": {
        "id": "7oZ9Y_TXwnZf"
      },
      "outputs": [],
      "source": [
        "! pip install -q kaggle"
      ]
    },
    {
      "cell_type": "code",
      "execution_count": null,
      "metadata": {
        "id": "JBOlvJ47wq0a"
      },
      "outputs": [],
      "source": [
        "! mkdir /root/.config/kaggle"
      ]
    },
    {
      "cell_type": "code",
      "execution_count": null,
      "metadata": {
        "colab": {
          "base_uri": "https://localhost:8080/"
        },
        "id": "YXD8Z8w7yWku",
        "outputId": "c0781448-5a00-4de2-9897-100491000ce4"
      },
      "outputs": [
        {
          "output_type": "stream",
          "name": "stdout",
          "text": [
            ".   .bashrc  .config   .julia\t .keras\t\t.local\t.profile    .wget-hsts\n",
            "..  .cache   .ipython  .jupyter  .launchpadlib\t.npm\t.tmux.conf\n"
          ]
        }
      ],
      "source": [
        "!ls -a /root/\n"
      ]
    },
    {
      "cell_type": "code",
      "execution_count": null,
      "metadata": {
        "colab": {
          "base_uri": "https://localhost:8080/"
        },
        "id": "HG8Iz4f7yZYU",
        "outputId": "a2d2cadf-61ff-48e3-d009-a68fadaeee6e"
      },
      "outputs": [
        {
          "output_type": "stream",
          "name": "stdout",
          "text": [
            "/root/.config/kaggle: directory\n"
          ]
        }
      ],
      "source": [
        "!file /root/.config/kaggle\n"
      ]
    },
    {
      "cell_type": "markdown",
      "metadata": {
        "id": "mBV7YHUaFQYo"
      },
      "source": [
        "Importing and extracting dataset"
      ]
    },
    {
      "cell_type": "code",
      "execution_count": null,
      "metadata": {
        "id": "6fLPd2pbBcaX",
        "colab": {
          "base_uri": "https://localhost:8080/",
          "height": 90
        },
        "outputId": "83d4f75c-a7cd-4ef7-f42f-1a39e59101db"
      },
      "outputs": [
        {
          "output_type": "display_data",
          "data": {
            "text/plain": [
              "<IPython.core.display.HTML object>"
            ],
            "text/html": [
              "\n",
              "     <input type=\"file\" id=\"files-85a8a72b-fbcf-46b2-a6b7-aa43b75074a3\" name=\"files[]\" multiple disabled\n",
              "        style=\"border:none\" />\n",
              "     <output id=\"result-85a8a72b-fbcf-46b2-a6b7-aa43b75074a3\">\n",
              "      Upload widget is only available when the cell has been executed in the\n",
              "      current browser session. Please rerun this cell to enable.\n",
              "      </output>\n",
              "      <script>// Copyright 2017 Google LLC\n",
              "//\n",
              "// Licensed under the Apache License, Version 2.0 (the \"License\");\n",
              "// you may not use this file except in compliance with the License.\n",
              "// You may obtain a copy of the License at\n",
              "//\n",
              "//      http://www.apache.org/licenses/LICENSE-2.0\n",
              "//\n",
              "// Unless required by applicable law or agreed to in writing, software\n",
              "// distributed under the License is distributed on an \"AS IS\" BASIS,\n",
              "// WITHOUT WARRANTIES OR CONDITIONS OF ANY KIND, either express or implied.\n",
              "// See the License for the specific language governing permissions and\n",
              "// limitations under the License.\n",
              "\n",
              "/**\n",
              " * @fileoverview Helpers for google.colab Python module.\n",
              " */\n",
              "(function(scope) {\n",
              "function span(text, styleAttributes = {}) {\n",
              "  const element = document.createElement('span');\n",
              "  element.textContent = text;\n",
              "  for (const key of Object.keys(styleAttributes)) {\n",
              "    element.style[key] = styleAttributes[key];\n",
              "  }\n",
              "  return element;\n",
              "}\n",
              "\n",
              "// Max number of bytes which will be uploaded at a time.\n",
              "const MAX_PAYLOAD_SIZE = 100 * 1024;\n",
              "\n",
              "function _uploadFiles(inputId, outputId) {\n",
              "  const steps = uploadFilesStep(inputId, outputId);\n",
              "  const outputElement = document.getElementById(outputId);\n",
              "  // Cache steps on the outputElement to make it available for the next call\n",
              "  // to uploadFilesContinue from Python.\n",
              "  outputElement.steps = steps;\n",
              "\n",
              "  return _uploadFilesContinue(outputId);\n",
              "}\n",
              "\n",
              "// This is roughly an async generator (not supported in the browser yet),\n",
              "// where there are multiple asynchronous steps and the Python side is going\n",
              "// to poll for completion of each step.\n",
              "// This uses a Promise to block the python side on completion of each step,\n",
              "// then passes the result of the previous step as the input to the next step.\n",
              "function _uploadFilesContinue(outputId) {\n",
              "  const outputElement = document.getElementById(outputId);\n",
              "  const steps = outputElement.steps;\n",
              "\n",
              "  const next = steps.next(outputElement.lastPromiseValue);\n",
              "  return Promise.resolve(next.value.promise).then((value) => {\n",
              "    // Cache the last promise value to make it available to the next\n",
              "    // step of the generator.\n",
              "    outputElement.lastPromiseValue = value;\n",
              "    return next.value.response;\n",
              "  });\n",
              "}\n",
              "\n",
              "/**\n",
              " * Generator function which is called between each async step of the upload\n",
              " * process.\n",
              " * @param {string} inputId Element ID of the input file picker element.\n",
              " * @param {string} outputId Element ID of the output display.\n",
              " * @return {!Iterable<!Object>} Iterable of next steps.\n",
              " */\n",
              "function* uploadFilesStep(inputId, outputId) {\n",
              "  const inputElement = document.getElementById(inputId);\n",
              "  inputElement.disabled = false;\n",
              "\n",
              "  const outputElement = document.getElementById(outputId);\n",
              "  outputElement.innerHTML = '';\n",
              "\n",
              "  const pickedPromise = new Promise((resolve) => {\n",
              "    inputElement.addEventListener('change', (e) => {\n",
              "      resolve(e.target.files);\n",
              "    });\n",
              "  });\n",
              "\n",
              "  const cancel = document.createElement('button');\n",
              "  inputElement.parentElement.appendChild(cancel);\n",
              "  cancel.textContent = 'Cancel upload';\n",
              "  const cancelPromise = new Promise((resolve) => {\n",
              "    cancel.onclick = () => {\n",
              "      resolve(null);\n",
              "    };\n",
              "  });\n",
              "\n",
              "  // Wait for the user to pick the files.\n",
              "  const files = yield {\n",
              "    promise: Promise.race([pickedPromise, cancelPromise]),\n",
              "    response: {\n",
              "      action: 'starting',\n",
              "    }\n",
              "  };\n",
              "\n",
              "  cancel.remove();\n",
              "\n",
              "  // Disable the input element since further picks are not allowed.\n",
              "  inputElement.disabled = true;\n",
              "\n",
              "  if (!files) {\n",
              "    return {\n",
              "      response: {\n",
              "        action: 'complete',\n",
              "      }\n",
              "    };\n",
              "  }\n",
              "\n",
              "  for (const file of files) {\n",
              "    const li = document.createElement('li');\n",
              "    li.append(span(file.name, {fontWeight: 'bold'}));\n",
              "    li.append(span(\n",
              "        `(${file.type || 'n/a'}) - ${file.size} bytes, ` +\n",
              "        `last modified: ${\n",
              "            file.lastModifiedDate ? file.lastModifiedDate.toLocaleDateString() :\n",
              "                                    'n/a'} - `));\n",
              "    const percent = span('0% done');\n",
              "    li.appendChild(percent);\n",
              "\n",
              "    outputElement.appendChild(li);\n",
              "\n",
              "    const fileDataPromise = new Promise((resolve) => {\n",
              "      const reader = new FileReader();\n",
              "      reader.onload = (e) => {\n",
              "        resolve(e.target.result);\n",
              "      };\n",
              "      reader.readAsArrayBuffer(file);\n",
              "    });\n",
              "    // Wait for the data to be ready.\n",
              "    let fileData = yield {\n",
              "      promise: fileDataPromise,\n",
              "      response: {\n",
              "        action: 'continue',\n",
              "      }\n",
              "    };\n",
              "\n",
              "    // Use a chunked sending to avoid message size limits. See b/62115660.\n",
              "    let position = 0;\n",
              "    do {\n",
              "      const length = Math.min(fileData.byteLength - position, MAX_PAYLOAD_SIZE);\n",
              "      const chunk = new Uint8Array(fileData, position, length);\n",
              "      position += length;\n",
              "\n",
              "      const base64 = btoa(String.fromCharCode.apply(null, chunk));\n",
              "      yield {\n",
              "        response: {\n",
              "          action: 'append',\n",
              "          file: file.name,\n",
              "          data: base64,\n",
              "        },\n",
              "      };\n",
              "\n",
              "      let percentDone = fileData.byteLength === 0 ?\n",
              "          100 :\n",
              "          Math.round((position / fileData.byteLength) * 100);\n",
              "      percent.textContent = `${percentDone}% done`;\n",
              "\n",
              "    } while (position < fileData.byteLength);\n",
              "  }\n",
              "\n",
              "  // All done.\n",
              "  yield {\n",
              "    response: {\n",
              "      action: 'complete',\n",
              "    }\n",
              "  };\n",
              "}\n",
              "\n",
              "scope.google = scope.google || {};\n",
              "scope.google.colab = scope.google.colab || {};\n",
              "scope.google.colab._files = {\n",
              "  _uploadFiles,\n",
              "  _uploadFilesContinue,\n",
              "};\n",
              "})(self);\n",
              "</script> "
            ]
          },
          "metadata": {}
        },
        {
          "output_type": "stream",
          "name": "stdout",
          "text": [
            "Saving kaggle.json to kaggle.json\n"
          ]
        },
        {
          "output_type": "execute_result",
          "data": {
            "text/plain": [
              "{'kaggle.json': b'{\"username\":\"ruthvela\",\"key\":\"5351ba8c8271e4ef3ed10b0e7960ee6d\"}'}"
            ]
          },
          "metadata": {},
          "execution_count": 6
        }
      ],
      "source": [
        "from google.colab import files\n",
        "files.upload()"
      ]
    },
    {
      "cell_type": "code",
      "execution_count": null,
      "metadata": {
        "id": "TCTLbuwxzz1k"
      },
      "outputs": [],
      "source": [
        "!mv kaggle.json /root/.config/kaggle/\n"
      ]
    },
    {
      "cell_type": "code",
      "execution_count": null,
      "metadata": {
        "id": "W4H650dODEVL",
        "colab": {
          "base_uri": "https://localhost:8080/"
        },
        "outputId": "6c2f19e8-7dd9-4db8-a8f7-1504e1c8cbdc"
      },
      "outputs": [
        {
          "output_type": "stream",
          "name": "stdout",
          "text": [
            "Warning: Your Kaggle API key is readable by other users on this system! To fix this, you can run 'chmod 600 /root/.config/kaggle/kaggle.json'\n",
            "Downloading widsdatathon2025.zip to /content\n",
            " 93% 230M/246M [00:01<00:00, 190MB/s]\n",
            "100% 246M/246M [00:01<00:00, 186MB/s]\n"
          ]
        }
      ],
      "source": [
        "!kaggle competitions download -c widsdatathon2025"
      ]
    },
    {
      "cell_type": "code",
      "execution_count": null,
      "metadata": {
        "id": "q_cEgw5bxApw"
      },
      "outputs": [],
      "source": [
        " ! chmod 600 /root/.config/kaggle/kaggle.json"
      ]
    },
    {
      "cell_type": "code",
      "execution_count": null,
      "metadata": {
        "id": "6R36kwGX9-WK"
      },
      "outputs": [],
      "source": [
        "DATA_DIR = \"./dataset\""
      ]
    },
    {
      "cell_type": "code",
      "execution_count": null,
      "metadata": {
        "id": "MZTcQuzGwECI"
      },
      "outputs": [],
      "source": [
        "!mkdir dataset"
      ]
    },
    {
      "cell_type": "code",
      "source": [
        "!mv ./widsdatathon2025.zip ./dataset"
      ],
      "metadata": {
        "id": "wMC-KpKotpI1"
      },
      "execution_count": null,
      "outputs": []
    },
    {
      "cell_type": "code",
      "execution_count": null,
      "metadata": {
        "id": "t1bbMyde_FiY"
      },
      "outputs": [],
      "source": [
        "with zipfile.ZipFile(\"./dataset/widsdatathon2025.zip\", \"r\") as zip_ref:\n",
        "    zip_ref.extractall(DATA_DIR)"
      ]
    },
    {
      "cell_type": "markdown",
      "metadata": {
        "id": "P8YttSLsFLO4"
      },
      "source": [
        "Looking at Data"
      ]
    },
    {
      "cell_type": "code",
      "execution_count": null,
      "metadata": {
        "id": "q6gN18UhYsFg"
      },
      "outputs": [],
      "source": [
        "df_cat = pd.read_excel(os.path.join(DATA_DIR, \"TRAIN/TRAIN_CATEGORICAL_METADATA.xlsx\"))\n",
        "df_FCM = pd.read_csv(os.path.join(DATA_DIR, \"TRAIN/TRAIN_FUNCTIONAL_CONNECTOME_MATRICES.csv\"))\n",
        "df_QTV = pd.read_excel(os.path.join(DATA_DIR, \"TRAIN/TRAIN_QUANTITATIVE_METADATA.xlsx\"))\n",
        "df_TS = pd.read_excel(os.path.join(DATA_DIR, \"TRAIN/TRAINING_SOLUTIONS.xlsx\"))"
      ]
    },
    {
      "cell_type": "code",
      "execution_count": null,
      "metadata": {
        "id": "6LrttnNNKCBU"
      },
      "outputs": [],
      "source": [
        "# changing null values to float value '3.0' since this is unknown\n",
        "df_cat.fillna({'PreInt_Demos_Fam_Child_Ethnicity': 3.0}, inplace=True)"
      ]
    },
    {
      "cell_type": "code",
      "execution_count": null,
      "metadata": {
        "id": "npKdM0vaIu3M"
      },
      "outputs": [],
      "source": [
        "# df_cat = train categorical metadata\n",
        "# df_FCM = functional connectome matrices\n",
        "# df_QTV = quantitative meta data\n",
        "# df_TS = training solutions"
      ]
    },
    {
      "cell_type": "code",
      "execution_count": null,
      "metadata": {
        "id": "Ggu-I-fJAbn9",
        "colab": {
          "base_uri": "https://localhost:8080/",
          "height": 480
        },
        "outputId": "68937139-34cf-41be-d44d-e47ba58c5f75",
        "collapsed": true
      },
      "outputs": [
        {
          "output_type": "display_data",
          "data": {
            "text/plain": [
              "<Figure size 640x480 with 1 Axes>"
            ],
            "image/png": "[encoded data removed]"
          },
          "metadata": {}
        }
      ],
      "source": [
        "sns.countplot(x='Barratt_Barratt_P1_Edu', data=df_cat[['Barratt_Barratt_P1_Edu']])\n",
        "plt.title(\"Barratt_Barratt_P1_Edu\")\n",
        "plt.xticks(rotation=45)\n",
        "plt.show()"
      ]
    },
    {
      "cell_type": "code",
      "source": [
        "df_QTV['MRI_Track_Age_at_Scan'].isnull().sum()"
      ],
      "metadata": {
        "colab": {
          "base_uri": "https://localhost:8080/"
        },
        "id": "vuOVg5oO-P4O",
        "outputId": "6e456d8c-4c26-48b9-9bdc-afe9b8b8d88f"
      },
      "execution_count": null,
      "outputs": [
        {
          "output_type": "execute_result",
          "data": {
            "text/plain": [
              "360"
            ]
          },
          "metadata": {},
          "execution_count": 18
        }
      ]
    },
    {
      "cell_type": "code",
      "source": [
        "feature = 'MRI_Track_Age_at_Scan'\n",
        "\n",
        "# Plotting histogram\n",
        "plt.figure(figsize=(8, 5))\n",
        "sns.histplot(df_QTV[feature], kde=True, bins=30)  # KDE adds a smoothed curve\n",
        "plt.title(f'Distribution of {feature}')\n",
        "plt.show()"
      ],
      "metadata": {
        "colab": {
          "base_uri": "https://localhost:8080/",
          "height": 487
        },
        "id": "-k6F6gXB9k0U",
        "outputId": "e9c992bb-739f-4ea2-af7e-03ba4be0bac2",
        "collapsed": true
      },
      "execution_count": null,
      "outputs": [
        {
          "output_type": "display_data",
          "data": {
            "text/plain": [
              "<Figure size 800x500 with 1 Axes>"
            ],
            "image/png": "[encoded data removed]"
          },
          "metadata": {}
        }
      ]
    },
    {
      "cell_type": "code",
      "source": [
        "mean_age = df_QTV['MRI_Track_Age_at_Scan'].mean()\n",
        "std_age = df_QTV['MRI_Track_Age_at_Scan'].std()\n",
        "\n",
        "# Fill NaNs with random samples from a normal distribution\n",
        "num_missing = df_QTV['MRI_Track_Age_at_Scan'].isnull().sum()\n",
        "df_QTV.loc[df_QTV['MRI_Track_Age_at_Scan'].isnull(), 'MRI_Track_Age_at_Scan'] = np.random.normal(mean_age, std_age, num_missing)\n"
      ],
      "metadata": {
        "id": "zguLTFOZ-5f5"
      },
      "execution_count": null,
      "outputs": []
    },
    {
      "cell_type": "code",
      "source": [
        "participant_ids = df_QTV['participant_id']  # Store IDs separately"
      ],
      "metadata": {
        "id": "QwN9QeUbDBuW"
      },
      "execution_count": null,
      "outputs": []
    },
    {
      "cell_type": "code",
      "source": [
        "# correlation matrix\n",
        "df_QTV = df_QTV.drop(columns=['participant_id'])\n",
        "corr_matrix = df_QTV.corr()\n",
        "\n",
        "plt.figure(figsize=(12, 8))\n",
        "sns.heatmap(corr_matrix, cmap=\"coolwarm\", annot=False)\n",
        "\n",
        "# Identify highly correlated features (threshold: 0.9)\n",
        "high_corr_features = set()\n",
        "for i in range(len(corr_matrix.columns)):\n",
        "    for j in range(i):\n",
        "        if abs(corr_matrix.iloc[i, j]) > 0.9:\n",
        "            high_corr_features.add(corr_matrix.columns[i])\n",
        "\n",
        "print(\"Dropping highly correlated features:\", high_corr_features)"
      ],
      "metadata": {
        "colab": {
          "base_uri": "https://localhost:8080/",
          "height": 827
        },
        "id": "PCf3s2KgRPry",
        "outputId": "63a4dc90-8c71-4d07-ca00-f2803cb40c81",
        "collapsed": true
      },
      "execution_count": null,
      "outputs": [
        {
          "output_type": "stream",
          "name": "stdout",
          "text": [
            "Dropping highly correlated features: {'SDQ_SDQ_Hyperactivity'}\n"
          ]
        },
        {
          "output_type": "display_data",
          "data": {
            "text/plain": [
              "<Figure size 1200x800 with 2 Axes>"
            ],
            "image/png": "[encoded data removed]"
          },
          "metadata": {}
        }
      ]
    },
    {
      "cell_type": "code",
      "source": [
        "df_QTV = df_QTV.drop(columns=high_corr_features)"
      ],
      "metadata": {
        "id": "btuctWvjtiIu"
      },
      "execution_count": null,
      "outputs": []
    },
    {
      "cell_type": "markdown",
      "metadata": {
        "id": "Gkw1fUb8Oa0v"
      },
      "source": [
        "## Merging Datasets into one by participant ID"
      ]
    },
    {
      "cell_type": "code",
      "execution_count": null,
      "metadata": {
        "id": "U8ZZjMI0OZ-7"
      },
      "outputs": [],
      "source": [
        "df_QTV['participant_id'] = participant_ids\n",
        "\n",
        "training_cat_FCM_df = pd.merge(df_cat, df_FCM, on='participant_id')\n",
        "training_df = pd.merge(training_cat_FCM_df, df_QTV, on='participant_id')\n",
        "final_df = pd.merge(training_df, df_TS, on='participant_id')\n",
        "final_df = final_df.drop(columns=['participant_id'])"
      ]
    },
    {
      "cell_type": "code",
      "execution_count": null,
      "metadata": {
        "id": "CUVXv9u3PeO_",
        "colab": {
          "base_uri": "https://localhost:8080/",
          "height": 412
        },
        "outputId": "3da27cff-b231-4740-d895-d3a0687db144"
      },
      "outputs": [
        {
          "output_type": "execute_result",
          "data": {
            "text/plain": [
              "   Basic_Demos_Study_Site  PreInt_Demos_Fam_Child_Ethnicity  \\\n",
              "0                       1                               0.0   \n",
              "1                       3                               1.0   \n",
              "2                       1                               1.0   \n",
              "3                       3                               0.0   \n",
              "4                       3                               0.0   \n",
              "5                       1                               0.0   \n",
              "6                       3                               0.0   \n",
              "7                       1                               0.0   \n",
              "8                       1                               0.0   \n",
              "9                       3                               0.0   \n",
              "\n",
              "   PreInt_Demos_Fam_Child_Race  MRI_Track_Scan_Location  \\\n",
              "0                            0                        1   \n",
              "1                            2                        3   \n",
              "2                            8                        1   \n",
              "3                            8                        3   \n",
              "4                            1                        3   \n",
              "5                            8                        3   \n",
              "6                            0                        3   \n",
              "7                            0                        2   \n",
              "8                            0                        1   \n",
              "9                            3                        3   \n",
              "\n",
              "   Barratt_Barratt_P1_Edu  Barratt_Barratt_P1_Occ  Barratt_Barratt_P2_Edu  \\\n",
              "0                      21                      45                      21   \n",
              "1                      15                      15                       0   \n",
              "2                      18                      40                       0   \n",
              "3                      15                      30                      18   \n",
              "4                      15                      20                       0   \n",
              "5                      21                       0                      18   \n",
              "6                      18                      25                      15   \n",
              "7                      21                      40                      18   \n",
              "8                      21                      40                      18   \n",
              "9                      15                      25                      15   \n",
              "\n",
              "   Barratt_Barratt_P2_Occ  0throw_1thcolumn  0throw_2thcolumn  ...  \\\n",
              "0                      45         -0.039820          0.177577  ...   \n",
              "1                       0          0.114480          0.205675  ...   \n",
              "2                       0          0.226402          0.159739  ...   \n",
              "3                       0          0.060679          0.047981  ...   \n",
              "4                       0          0.056123          0.178890  ...   \n",
              "5                      45          0.063914          0.122648  ...   \n",
              "6                      35          0.070287          0.086732  ...   \n",
              "7                      40          0.073525          0.149453  ...   \n",
              "8                      35          0.094771          0.090933  ...   \n",
              "9                      10          0.087224          0.146015  ...   \n",
              "\n",
              "   SDQ_SDQ_Difficulties_Total  SDQ_SDQ_Emotional_Problems  \\\n",
              "0                           6                           1   \n",
              "1                          18                           6   \n",
              "2                          14                           2   \n",
              "3                          24                           4   \n",
              "4                          18                           4   \n",
              "5                          17                           0   \n",
              "6                           9                           1   \n",
              "7                          16                           3   \n",
              "8                          23                           6   \n",
              "9                          25                           4   \n",
              "\n",
              "   SDQ_SDQ_Externalizing  SDQ_SDQ_Generating_Impact  SDQ_SDQ_Internalizing  \\\n",
              "0                      5                          0                      1   \n",
              "1                      8                          7                     10   \n",
              "2                      8                          5                      6   \n",
              "3                     16                          9                      8   \n",
              "4                     11                          4                      7   \n",
              "5                     12                          9                      5   \n",
              "6                      5                          1                      4   \n",
              "7                     11                          6                      5   \n",
              "8                     14                          2                      9   \n",
              "9                     15                          6                     10   \n",
              "\n",
              "   SDQ_SDQ_Peer_Problems  SDQ_SDQ_Prosocial  MRI_Track_Age_at_Scan  \\\n",
              "0                      0                 10              11.768277   \n",
              "1                      4                  5              10.315079   \n",
              "2                      4                  9               8.239904   \n",
              "3                      4                  6              11.480233   \n",
              "4                      3                  9               8.940679   \n",
              "5                      5                  3               7.591101   \n",
              "6                      3                 10              16.768195   \n",
              "7                      2                  6              11.221309   \n",
              "8                      3                 10               8.570841   \n",
              "9                      6                  5              15.410221   \n",
              "\n",
              "   ADHD_Outcome  Sex_F  \n",
              "0             1      1  \n",
              "1             1      0  \n",
              "2             1      0  \n",
              "3             1      1  \n",
              "4             1      1  \n",
              "5             1      0  \n",
              "6             1      0  \n",
              "7             1      0  \n",
              "8             1      1  \n",
              "9             1      0  \n",
              "\n",
              "[10 rows x 19927 columns]"
            ],
            "text/html": [
              "\n",
              "  <div id=\"df-44306b81-6f7d-44b7-a3b2-7dbd713ae770\" class=\"colab-df-container\">\n",
              "    <div>\n",
              "<style scoped>\n",
              "    .dataframe tbody tr th:only-of-type {\n",
              "        vertical-align: middle;\n",
              "    }\n",
              "\n",
              "    .dataframe tbody tr th {\n",
              "        vertical-align: top;\n",
              "    }\n",
              "\n",
              "    .dataframe thead th {\n",
              "        text-align: right;\n",
              "    }\n",
              "</style>\n",
              "<table border=\"1\" class=\"dataframe\">\n",
              "  <thead>\n",
              "    <tr style=\"text-align: right;\">\n",
              "      <th></th>\n",
              "      <th>Basic_Demos_Study_Site</th>\n",
              "      <th>PreInt_Demos_Fam_Child_Ethnicity</th>\n",
              "      <th>PreInt_Demos_Fam_Child_Race</th>\n",
              "      <th>MRI_Track_Scan_Location</th>\n",
              "      <th>Barratt_Barratt_P1_Edu</th>\n",
              "      <th>Barratt_Barratt_P1_Occ</th>\n",
              "      <th>Barratt_Barratt_P2_Edu</th>\n",
              "      <th>Barratt_Barratt_P2_Occ</th>\n",
              "      <th>0throw_1thcolumn</th>\n",
              "      <th>0throw_2thcolumn</th>\n",
              "      <th>...</th>\n",
              "      <th>SDQ_SDQ_Difficulties_Total</th>\n",
              "      <th>SDQ_SDQ_Emotional_Problems</th>\n",
              "      <th>SDQ_SDQ_Externalizing</th>\n",
              "      <th>SDQ_SDQ_Generating_Impact</th>\n",
              "      <th>SDQ_SDQ_Internalizing</th>\n",
              "      <th>SDQ_SDQ_Peer_Problems</th>\n",
              "      <th>SDQ_SDQ_Prosocial</th>\n",
              "      <th>MRI_Track_Age_at_Scan</th>\n",
              "      <th>ADHD_Outcome</th>\n",
              "      <th>Sex_F</th>\n",
              "    </tr>\n",
              "  </thead>\n",
              "  <tbody>\n",
              "    <tr>\n",
              "      <th>0</th>\n",
              "      <td>1</td>\n",
              "      <td>0.0</td>\n",
              "      <td>0</td>\n",
              "      <td>1</td>\n",
              "      <td>21</td>\n",
              "      <td>45</td>\n",
              "      <td>21</td>\n",
              "      <td>45</td>\n",
              "      <td>-0.039820</td>\n",
              "      <td>0.177577</td>\n",
              "      <td>...</td>\n",
              "      <td>6</td>\n",
              "      <td>1</td>\n",
              "      <td>5</td>\n",
              "      <td>0</td>\n",
              "      <td>1</td>\n",
              "      <td>0</td>\n",
              "      <td>10</td>\n",
              "      <td>11.768277</td>\n",
              "      <td>1</td>\n",
              "      <td>1</td>\n",
              "    </tr>\n",
              "    <tr>\n",
              "      <th>1</th>\n",
              "      <td>3</td>\n",
              "      <td>1.0</td>\n",
              "      <td>2</td>\n",
              "      <td>3</td>\n",
              "      <td>15</td>\n",
              "      <td>15</td>\n",
              "      <td>0</td>\n",
              "      <td>0</td>\n",
              "      <td>0.114480</td>\n",
              "      <td>0.205675</td>\n",
              "      <td>...</td>\n",
              "      <td>18</td>\n",
              "      <td>6</td>\n",
              "      <td>8</td>\n",
              "      <td>7</td>\n",
              "      <td>10</td>\n",
              "      <td>4</td>\n",
              "      <td>5</td>\n",
              "      <td>10.315079</td>\n",
              "      <td>1</td>\n",
              "      <td>0</td>\n",
              "    </tr>\n",
              "    <tr>\n",
              "      <th>2</th>\n",
              "      <td>1</td>\n",
              "      <td>1.0</td>\n",
              "      <td>8</td>\n",
              "      <td>1</td>\n",
              "      <td>18</td>\n",
              "      <td>40</td>\n",
              "      <td>0</td>\n",
              "      <td>0</td>\n",
              "      <td>0.226402</td>\n",
              "      <td>0.159739</td>\n",
              "      <td>...</td>\n",
              "      <td>14</td>\n",
              "      <td>2</td>\n",
              "      <td>8</td>\n",
              "      <td>5</td>\n",
              "      <td>6</td>\n",
              "      <td>4</td>\n",
              "      <td>9</td>\n",
              "      <td>8.239904</td>\n",
              "      <td>1</td>\n",
              "      <td>0</td>\n",
              "    </tr>\n",
              "    <tr>\n",
              "      <th>3</th>\n",
              "      <td>3</td>\n",
              "      <td>0.0</td>\n",
              "      <td>8</td>\n",
              "      <td>3</td>\n",
              "      <td>15</td>\n",
              "      <td>30</td>\n",
              "      <td>18</td>\n",
              "      <td>0</td>\n",
              "      <td>0.060679</td>\n",
              "      <td>0.047981</td>\n",
              "      <td>...</td>\n",
              "      <td>24</td>\n",
              "      <td>4</td>\n",
              "      <td>16</td>\n",
              "      <td>9</td>\n",
              "      <td>8</td>\n",
              "      <td>4</td>\n",
              "      <td>6</td>\n",
              "      <td>11.480233</td>\n",
              "      <td>1</td>\n",
              "      <td>1</td>\n",
              "    </tr>\n",
              "    <tr>\n",
              "      <th>4</th>\n",
              "      <td>3</td>\n",
              "      <td>0.0</td>\n",
              "      <td>1</td>\n",
              "      <td>3</td>\n",
              "      <td>15</td>\n",
              "      <td>20</td>\n",
              "      <td>0</td>\n",
              "      <td>0</td>\n",
              "      <td>0.056123</td>\n",
              "      <td>0.178890</td>\n",
              "      <td>...</td>\n",
              "      <td>18</td>\n",
              "      <td>4</td>\n",
              "      <td>11</td>\n",
              "      <td>4</td>\n",
              "      <td>7</td>\n",
              "      <td>3</td>\n",
              "      <td>9</td>\n",
              "      <td>8.940679</td>\n",
              "      <td>1</td>\n",
              "      <td>1</td>\n",
              "    </tr>\n",
              "    <tr>\n",
              "      <th>5</th>\n",
              "      <td>1</td>\n",
              "      <td>0.0</td>\n",
              "      <td>8</td>\n",
              "      <td>3</td>\n",
              "      <td>21</td>\n",
              "      <td>0</td>\n",
              "      <td>18</td>\n",
              "      <td>45</td>\n",
              "      <td>0.063914</td>\n",
              "      <td>0.122648</td>\n",
              "      <td>...</td>\n",
              "      <td>17</td>\n",
              "      <td>0</td>\n",
              "      <td>12</td>\n",
              "      <td>9</td>\n",
              "      <td>5</td>\n",
              "      <td>5</td>\n",
              "      <td>3</td>\n",
              "      <td>7.591101</td>\n",
              "      <td>1</td>\n",
              "      <td>0</td>\n",
              "    </tr>\n",
              "    <tr>\n",
              "      <th>6</th>\n",
              "      <td>3</td>\n",
              "      <td>0.0</td>\n",
              "      <td>0</td>\n",
              "      <td>3</td>\n",
              "      <td>18</td>\n",
              "      <td>25</td>\n",
              "      <td>15</td>\n",
              "      <td>35</td>\n",
              "      <td>0.070287</td>\n",
              "      <td>0.086732</td>\n",
              "      <td>...</td>\n",
              "      <td>9</td>\n",
              "      <td>1</td>\n",
              "      <td>5</td>\n",
              "      <td>1</td>\n",
              "      <td>4</td>\n",
              "      <td>3</td>\n",
              "      <td>10</td>\n",
              "      <td>16.768195</td>\n",
              "      <td>1</td>\n",
              "      <td>0</td>\n",
              "    </tr>\n",
              "    <tr>\n",
              "      <th>7</th>\n",
              "      <td>1</td>\n",
              "      <td>0.0</td>\n",
              "      <td>0</td>\n",
              "      <td>2</td>\n",
              "      <td>21</td>\n",
              "      <td>40</td>\n",
              "      <td>18</td>\n",
              "      <td>40</td>\n",
              "      <td>0.073525</td>\n",
              "      <td>0.149453</td>\n",
              "      <td>...</td>\n",
              "      <td>16</td>\n",
              "      <td>3</td>\n",
              "      <td>11</td>\n",
              "      <td>6</td>\n",
              "      <td>5</td>\n",
              "      <td>2</td>\n",
              "      <td>6</td>\n",
              "      <td>11.221309</td>\n",
              "      <td>1</td>\n",
              "      <td>0</td>\n",
              "    </tr>\n",
              "    <tr>\n",
              "      <th>8</th>\n",
              "      <td>1</td>\n",
              "      <td>0.0</td>\n",
              "      <td>0</td>\n",
              "      <td>1</td>\n",
              "      <td>21</td>\n",
              "      <td>40</td>\n",
              "      <td>18</td>\n",
              "      <td>35</td>\n",
              "      <td>0.094771</td>\n",
              "      <td>0.090933</td>\n",
              "      <td>...</td>\n",
              "      <td>23</td>\n",
              "      <td>6</td>\n",
              "      <td>14</td>\n",
              "      <td>2</td>\n",
              "      <td>9</td>\n",
              "      <td>3</td>\n",
              "      <td>10</td>\n",
              "      <td>8.570841</td>\n",
              "      <td>1</td>\n",
              "      <td>1</td>\n",
              "    </tr>\n",
              "    <tr>\n",
              "      <th>9</th>\n",
              "      <td>3</td>\n",
              "      <td>0.0</td>\n",
              "      <td>3</td>\n",
              "      <td>3</td>\n",
              "      <td>15</td>\n",
              "      <td>25</td>\n",
              "      <td>15</td>\n",
              "      <td>10</td>\n",
              "      <td>0.087224</td>\n",
              "      <td>0.146015</td>\n",
              "      <td>...</td>\n",
              "      <td>25</td>\n",
              "      <td>4</td>\n",
              "      <td>15</td>\n",
              "      <td>6</td>\n",
              "      <td>10</td>\n",
              "      <td>6</td>\n",
              "      <td>5</td>\n",
              "      <td>15.410221</td>\n",
              "      <td>1</td>\n",
              "      <td>0</td>\n",
              "    </tr>\n",
              "  </tbody>\n",
              "</table>\n",
              "<p>10 rows × 19927 columns</p>\n",
              "</div>\n",
              "    <div class=\"colab-df-buttons\">\n",
              "\n",
              "  <div class=\"colab-df-container\">\n",
              "    <button class=\"colab-df-convert\" onclick=\"convertToInteractive('df-44306b81-6f7d-44b7-a3b2-7dbd713ae770')\"\n",
              "            title=\"Convert this dataframe to an interactive table.\"\n",
              "            style=\"display:none;\">\n",
              "\n",
              "  <svg xmlns=\"http://www.w3.org/2000/svg\" height=\"24px\" viewBox=\"0 -960 960 960\">\n",
              "    <path d=\"M120-120v-720h720v720H120Zm60-500h600v-160H180v160Zm220 220h160v-160H400v160Zm0 220h160v-160H400v160ZM180-400h160v-160H180v160Zm440 0h160v-160H620v160ZM180-180h160v-160H180v160Zm440 0h160v-160H620v160Z\"/>\n",
              "  </svg>\n",
              "    </button>\n",
              "\n",
              "  <style>\n",
              "    .colab-df-container {\n",
              "      display:flex;\n",
              "      gap: 12px;\n",
              "    }\n",
              "\n",
              "    .colab-df-convert {\n",
              "      background-color: #E8F0FE;\n",
              "      border: none;\n",
              "      border-radius: 50%;\n",
              "      cursor: pointer;\n",
              "      display: none;\n",
              "      fill: #1967D2;\n",
              "      height: 32px;\n",
              "      padding: 0 0 0 0;\n",
              "      width: 32px;\n",
              "    }\n",
              "\n",
              "    .colab-df-convert:hover {\n",
              "      background-color: #E2EBFA;\n",
              "      box-shadow: 0px 1px 2px rgba(60, 64, 67, 0.3), 0px 1px 3px 1px rgba(60, 64, 67, 0.15);\n",
              "      fill: #174EA6;\n",
              "    }\n",
              "\n",
              "    .colab-df-buttons div {\n",
              "      margin-bottom: 4px;\n",
              "    }\n",
              "\n",
              "    [theme=dark] .colab-df-convert {\n",
              "      background-color: #3B4455;\n",
              "      fill: #D2E3FC;\n",
              "    }\n",
              "\n",
              "    [theme=dark] .colab-df-convert:hover {\n",
              "      background-color: #434B5C;\n",
              "      box-shadow: 0px 1px 3px 1px rgba(0, 0, 0, 0.15);\n",
              "      filter: drop-shadow(0px 1px 2px rgba(0, 0, 0, 0.3));\n",
              "      fill: #FFFFFF;\n",
              "    }\n",
              "  </style>\n",
              "\n",
              "    <script>\n",
              "      const buttonEl =\n",
              "        document.querySelector('#df-44306b81-6f7d-44b7-a3b2-7dbd713ae770 button.colab-df-convert');\n",
              "      buttonEl.style.display =\n",
              "        google.colab.kernel.accessAllowed ? 'block' : 'none';\n",
              "\n",
              "      async function convertToInteractive(key) {\n",
              "        const element = document.querySelector('#df-44306b81-6f7d-44b7-a3b2-7dbd713ae770');\n",
              "        const dataTable =\n",
              "          await google.colab.kernel.invokeFunction('convertToInteractive',\n",
              "                                                    [key], {});\n",
              "        if (!dataTable) return;\n",
              "\n",
              "        const docLinkHtml = 'Like what you see? Visit the ' +\n",
              "          '<a target=\"_blank\" href=https://colab.research.google.com/notebooks/data_table.ipynb>data table notebook</a>'\n",
              "          + ' to learn more about interactive tables.';\n",
              "        element.innerHTML = '';\n",
              "        dataTable['output_type'] = 'display_data';\n",
              "        await google.colab.output.renderOutput(dataTable, element);\n",
              "        const docLink = document.createElement('div');\n",
              "        docLink.innerHTML = docLinkHtml;\n",
              "        element.appendChild(docLink);\n",
              "      }\n",
              "    </script>\n",
              "  </div>\n",
              "\n",
              "\n",
              "<div id=\"df-182d50e5-17cd-49de-9a65-0b0032810c08\">\n",
              "  <button class=\"colab-df-quickchart\" onclick=\"quickchart('df-182d50e5-17cd-49de-9a65-0b0032810c08')\"\n",
              "            title=\"Suggest charts\"\n",
              "            style=\"display:none;\">\n",
              "\n",
              "<svg xmlns=\"http://www.w3.org/2000/svg\" height=\"24px\"viewBox=\"0 0 24 24\"\n",
              "     width=\"24px\">\n",
              "    <g>\n",
              "        <path d=\"M19 3H5c-1.1 0-2 .9-2 2v14c0 1.1.9 2 2 2h14c1.1 0 2-.9 2-2V5c0-1.1-.9-2-2-2zM9 17H7v-7h2v7zm4 0h-2V7h2v10zm4 0h-2v-4h2v4z\"/>\n",
              "    </g>\n",
              "</svg>\n",
              "  </button>\n",
              "\n",
              "<style>\n",
              "  .colab-df-quickchart {\n",
              "      --bg-color: #E8F0FE;\n",
              "      --fill-color: #1967D2;\n",
              "      --hover-bg-color: #E2EBFA;\n",
              "      --hover-fill-color: #174EA6;\n",
              "      --disabled-fill-color: #AAA;\n",
              "      --disabled-bg-color: #DDD;\n",
              "  }\n",
              "\n",
              "  [theme=dark] .colab-df-quickchart {\n",
              "      --bg-color: #3B4455;\n",
              "      --fill-color: #D2E3FC;\n",
              "      --hover-bg-color: #434B5C;\n",
              "      --hover-fill-color: #FFFFFF;\n",
              "      --disabled-bg-color: #3B4455;\n",
              "      --disabled-fill-color: #666;\n",
              "  }\n",
              "\n",
              "  .colab-df-quickchart {\n",
              "    background-color: var(--bg-color);\n",
              "    border: none;\n",
              "    border-radius: 50%;\n",
              "    cursor: pointer;\n",
              "    display: none;\n",
              "    fill: var(--fill-color);\n",
              "    height: 32px;\n",
              "    padding: 0;\n",
              "    width: 32px;\n",
              "  }\n",
              "\n",
              "  .colab-df-quickchart:hover {\n",
              "    background-color: var(--hover-bg-color);\n",
              "    box-shadow: 0 1px 2px rgba(60, 64, 67, 0.3), 0 1px 3px 1px rgba(60, 64, 67, 0.15);\n",
              "    fill: var(--button-hover-fill-color);\n",
              "  }\n",
              "\n",
              "  .colab-df-quickchart-complete:disabled,\n",
              "  .colab-df-quickchart-complete:disabled:hover {\n",
              "    background-color: var(--disabled-bg-color);\n",
              "    fill: var(--disabled-fill-color);\n",
              "    box-shadow: none;\n",
              "  }\n",
              "\n",
              "  .colab-df-spinner {\n",
              "    border: 2px solid var(--fill-color);\n",
              "    border-color: transparent;\n",
              "    border-bottom-color: var(--fill-color);\n",
              "    animation:\n",
              "      spin 1s steps(1) infinite;\n",
              "  }\n",
              "\n",
              "  @keyframes spin {\n",
              "    0% {\n",
              "      border-color: transparent;\n",
              "      border-bottom-color: var(--fill-color);\n",
              "      border-left-color: var(--fill-color);\n",
              "    }\n",
              "    20% {\n",
              "      border-color: transparent;\n",
              "      border-left-color: var(--fill-color);\n",
              "      border-top-color: var(--fill-color);\n",
              "    }\n",
              "    30% {\n",
              "      border-color: transparent;\n",
              "      border-left-color: var(--fill-color);\n",
              "      border-top-color: var(--fill-color);\n",
              "      border-right-color: var(--fill-color);\n",
              "    }\n",
              "    40% {\n",
              "      border-color: transparent;\n",
              "      border-right-color: var(--fill-color);\n",
              "      border-top-color: var(--fill-color);\n",
              "    }\n",
              "    60% {\n",
              "      border-color: transparent;\n",
              "      border-right-color: var(--fill-color);\n",
              "    }\n",
              "    80% {\n",
              "      border-color: transparent;\n",
              "      border-right-color: var(--fill-color);\n",
              "      border-bottom-color: var(--fill-color);\n",
              "    }\n",
              "    90% {\n",
              "      border-color: transparent;\n",
              "      border-bottom-color: var(--fill-color);\n",
              "    }\n",
              "  }\n",
              "</style>\n",
              "\n",
              "  <script>\n",
              "    async function quickchart(key) {\n",
              "      const quickchartButtonEl =\n",
              "        document.querySelector('#' + key + ' button');\n",
              "      quickchartButtonEl.disabled = true;  // To prevent multiple clicks.\n",
              "      quickchartButtonEl.classList.add('colab-df-spinner');\n",
              "      try {\n",
              "        const charts = await google.colab.kernel.invokeFunction(\n",
              "            'suggestCharts', [key], {});\n",
              "      } catch (error) {\n",
              "        console.error('Error during call to suggestCharts:', error);\n",
              "      }\n",
              "      quickchartButtonEl.classList.remove('colab-df-spinner');\n",
              "      quickchartButtonEl.classList.add('colab-df-quickchart-complete');\n",
              "    }\n",
              "    (() => {\n",
              "      let quickchartButtonEl =\n",
              "        document.querySelector('#df-182d50e5-17cd-49de-9a65-0b0032810c08 button');\n",
              "      quickchartButtonEl.style.display =\n",
              "        google.colab.kernel.accessAllowed ? 'block' : 'none';\n",
              "    })();\n",
              "  </script>\n",
              "</div>\n",
              "\n",
              "    </div>\n",
              "  </div>\n"
            ],
            "application/vnd.google.colaboratory.intrinsic+json": {
              "type": "dataframe",
              "variable_name": "final_df"
            }
          },
          "metadata": {},
          "execution_count": 85
        }
      ],
      "source": [
        "final_df.head(10)"
      ]
    },
    {
      "cell_type": "code",
      "execution_count": null,
      "metadata": {
        "id": "AFUfuPO-Jde6",
        "colab": {
          "base_uri": "https://localhost:8080/"
        },
        "outputId": "cae6d7e6-edba-4c85-c979-a6b0b39725c8"
      },
      "outputs": [
        {
          "output_type": "execute_result",
          "data": {
            "text/plain": [
              "0"
            ]
          },
          "metadata": {},
          "execution_count": 86
        }
      ],
      "source": [
        "final_df.isnull().sum().sum()"
      ]
    },
    {
      "cell_type": "code",
      "execution_count": null,
      "metadata": {
        "id": "WFG3afjKekkE"
      },
      "outputs": [],
      "source": [
        "feature_labels = final_df.drop(columns=['ADHD_Outcome', 'Sex_F'])\n",
        "adhd_label = final_df['ADHD_Outcome']\n",
        "sex_label = final_df['Sex_F']"
      ]
    },
    {
      "cell_type": "code",
      "execution_count": null,
      "metadata": {
        "id": "Y_jGztMmIw8O"
      },
      "outputs": [],
      "source": [
        "feature_tensors = torch.tensor(feature_labels.values, dtype=torch.float32)\n",
        "adhd_tensors = torch.tensor(adhd_label, dtype=torch.float32).unsqueeze(1)  # Shape: [batch_size, 1]\n",
        "sex_tensors = torch.tensor(sex_label, dtype=torch.float32).unsqueeze(1)    # Shape: [batch_size, 1]"
      ]
    },
    {
      "cell_type": "code",
      "execution_count": null,
      "metadata": {
        "id": "XfXsRjOgJC9m"
      },
      "outputs": [],
      "source": [
        "class MultiOutputModel(nn.Module):\n",
        "    def __init__(self, input_dim):\n",
        "        super(MultiOutputModel, self).__init__()\n",
        "\n",
        "        # Shared feature extraction layer\n",
        "        self.shared_fc = nn.Linear(input_dim, 128)\n",
        "        self.shared_relu = nn.ReLU()\n",
        "\n",
        "        # ADHD-specific branch\n",
        "        self.adhd_fc1 = nn.Linear(128, 64)\n",
        "        self.adhd_relu = nn.ReLU()\n",
        "        self.adhd_fc2 = nn.Linear(64, 1)\n",
        "\n",
        "        # Sex-specific branch\n",
        "        self.sex_fc1 = nn.Linear(128, 64)\n",
        "        self.sex_relu = nn.ReLU()\n",
        "        self.sex_fc2 = nn.Linear(64, 1)\n",
        "\n",
        "        # Sigmoid activation for binary classification\n",
        "        self.sigmoid = nn.Sigmoid()\n",
        "\n",
        "    def forward(self, x):\n",
        "        # Shared feature extraction\n",
        "        x = self.shared_fc(x)\n",
        "        x = self.shared_relu(x)\n",
        "\n",
        "        # ADHD branch\n",
        "        adhd_x = self.adhd_fc1(x)\n",
        "        adhd_x = self.adhd_relu(adhd_x)\n",
        "        adhd_output = self.sigmoid(self.adhd_fc2(adhd_x))\n",
        "\n",
        "        # Sex branch\n",
        "        sex_x = self.sex_fc1(x)\n",
        "        sex_x = self.sex_relu(sex_x)\n",
        "        sex_output = self.sigmoid(self.sex_fc2(sex_x))\n",
        "\n",
        "        return adhd_output, sex_output"
      ]
    },
    {
      "cell_type": "code",
      "execution_count": null,
      "metadata": {
        "id": "Pd_5nIogJJRC"
      },
      "outputs": [],
      "source": [
        "# Instantiate model\n",
        "input_dim = feature_tensors.shape[1]  # Number of features in fMRI vector\n",
        "model = MultiOutputModel(input_dim)\n",
        "\n",
        "# Defining loss functions for binary classification (Binary Cross-Entropy Loss)\n",
        "loss_fn = nn.BCELoss()\n",
        "\n",
        "# Optimizer\n",
        "optimizer = torch.optim.Adam(model.parameters(), lr=0.001, weight_decay=1e-5)\n",
        "# added due to dropout\n",
        "\n"
      ]
    },
    {
      "cell_type": "markdown",
      "metadata": {
        "id": "74wmTiUmSHk2"
      },
      "source": [
        "# Training Loop\n"
      ]
    },
    {
      "cell_type": "code",
      "execution_count": null,
      "metadata": {
        "id": "M8JPK3UdJQbU",
        "colab": {
          "base_uri": "https://localhost:8080/"
        },
        "outputId": "7253b1aa-2575-470b-ac79-768290b0a601"
      },
      "outputs": [
        {
          "output_type": "stream",
          "name": "stdout",
          "text": [
            "Epoch 1, Loss: 47.4189\n",
            "Epoch 2, Loss: 38.8200\n",
            "Epoch 3, Loss: 24.3672\n",
            "Epoch 4, Loss: 8.8018\n",
            "Epoch 5, Loss: 1.6884\n",
            "Epoch 6, Loss: 0.4686\n",
            "Epoch 7, Loss: 0.2051\n",
            "Epoch 8, Loss: 0.1105\n",
            "Epoch 9, Loss: 0.0704\n",
            "Epoch 10, Loss: 0.0434\n",
            "Epoch 11, Loss: 0.0241\n",
            "Epoch 12, Loss: 0.0145\n",
            "Epoch 13, Loss: 0.0101\n",
            "Epoch 14, Loss: 0.0076\n",
            "Epoch 15, Loss: 0.0061\n",
            "Epoch 16, Loss: 0.0051\n",
            "Epoch 17, Loss: 0.0044\n",
            "Epoch 18, Loss: 0.0038\n",
            "Epoch 19, Loss: 0.0034\n",
            "Epoch 20, Loss: 0.0031\n",
            "Epoch 21, Loss: 0.0029\n",
            "Epoch 22, Loss: 0.0026\n",
            "Epoch 23, Loss: 0.0025\n",
            "Epoch 24, Loss: 0.0023\n",
            "Epoch 25, Loss: 0.0022\n",
            "Epoch 26, Loss: 0.0021\n",
            "Epoch 27, Loss: 0.0020\n",
            "Epoch 28, Loss: 0.0019\n",
            "Epoch 29, Loss: 0.0019\n",
            "Epoch 30, Loss: 0.0018\n",
            "Epoch 31, Loss: 0.0018\n",
            "Epoch 32, Loss: 0.0017\n",
            "Epoch 33, Loss: 0.0017\n",
            "Epoch 34, Loss: 0.0017\n",
            "Epoch 35, Loss: 0.0016\n",
            "Epoch 36, Loss: 0.0016\n",
            "Epoch 37, Loss: 0.0016\n",
            "Epoch 38, Loss: 0.0016\n",
            "Epoch 39, Loss: 0.0015\n",
            "Epoch 40, Loss: 0.0015\n",
            "Epoch 41, Loss: 0.0015\n",
            "Epoch 42, Loss: 0.0015\n",
            "Epoch 43, Loss: 0.0015\n",
            "Epoch 44, Loss: 0.0015\n",
            "Epoch 45, Loss: 0.0015\n",
            "Epoch 46, Loss: 0.0015\n",
            "Epoch 47, Loss: 0.0015\n",
            "Epoch 48, Loss: 0.0014\n",
            "Epoch 49, Loss: 0.0014\n",
            "Epoch 50, Loss: 0.0014\n"
          ]
        }
      ],
      "source": [
        "# Combine inputs and targets into a dataset\n",
        "dataset = torch.utils.data.TensorDataset(feature_tensors, adhd_tensors, sex_tensors)\n",
        "dataloader = torch.utils.data.DataLoader(dataset, batch_size=32, shuffle=True)\n",
        "\n",
        "# Training loop\n",
        "for epoch in range(50):\n",
        "    model.train()\n",
        "    total_loss = 0\n",
        "\n",
        "    for fmri_batch, adhd_batch, sex_batch in dataloader:\n",
        "        optimizer.zero_grad()\n",
        "\n",
        "        # Forward pass through the model\n",
        "        adhd_pred, sex_pred = model(fmri_batch)\n",
        "\n",
        "        # Compute losses for both outputs\n",
        "        loss_adhd = loss_fn(adhd_pred, adhd_batch)\n",
        "        loss_sex = loss_fn(sex_pred, sex_batch)\n",
        "\n",
        "        loss = loss_adhd + loss_sex\n",
        "\n",
        "        # Backpropagation and optimization step\n",
        "        loss.backward()\n",
        "        optimizer.step()\n",
        "\n",
        "        total_loss += loss.item()\n",
        "\n",
        "    print(f\"Epoch {epoch+1}, Loss: {total_loss:.4f}\")\n",
        "    # scheduler.step(total_loss)"
      ]
    },
    {
      "cell_type": "code",
      "execution_count": null,
      "metadata": {
        "id": "UYREkjVFLguB",
        "colab": {
          "base_uri": "https://localhost:8080/"
        },
        "outputId": "774d7f21-a1f3-4a6a-e967-b4319beb638d"
      },
      "outputs": [
        {
          "output_type": "stream",
          "name": "stdout",
          "text": [
            "ADHD Prediction Accuracy: 1.0000\n",
            "Sex Prediction Accuracy: 1.0000\n"
          ]
        }
      ],
      "source": [
        "model.eval()\n",
        "\n",
        "with torch.no_grad():\n",
        "    test_adhd_pred, test_sex_pred = model(feature_tensors)\n",
        "\n",
        "    # Threshold predictions at 0.5 to get binary labels\n",
        "    adhd_pred_labels = (test_adhd_pred > 0.5).float()\n",
        "    sex_pred_labels = (test_sex_pred > 0.5).float()\n",
        "\n",
        "    # Calculate accuracy for ADHD prediction\n",
        "    adhd_accuracy = (adhd_pred_labels == adhd_tensors).float().mean().item()\n",
        "\n",
        "    # Calculate accuracy for Sex prediction\n",
        "    sex_accuracy = (sex_pred_labels == sex_tensors).float().mean().item()\n",
        "\n",
        "print(f\"ADHD Prediction Accuracy: {adhd_accuracy:.4f}\")\n",
        "print(f\"Sex Prediction Accuracy: {sex_accuracy:.4f}\")\n"
      ]
    },
    {
      "cell_type": "markdown",
      "metadata": {
        "id": "gkc0qF5lSDl-"
      },
      "source": [
        "# Testing model accuracy\n"
      ]
    },
    {
      "cell_type": "code",
      "source": [
        "test_cat = pd.read_excel(os.path.join(DATA_DIR, \"TEST/TEST_CATEGORICAL.xlsx\"))\n",
        "test_FCM = pd.read_csv(os.path.join(DATA_DIR, \"TEST/TEST_FUNCTIONAL_CONNECTOME_MATRICES.csv\"))\n",
        "test_QTV = pd.read_excel(os.path.join(DATA_DIR, \"TEST/TEST_QUANTITATIVE_METADATA.xlsx\"))"
      ],
      "metadata": {
        "id": "L0a2pdHNK9CF"
      },
      "execution_count": null,
      "outputs": []
    },
    {
      "cell_type": "code",
      "source": [
        "QTV_PAR_ID = test_QTV['participant_id']\n",
        "test_QTV = test_QTV.drop(columns=['participant_id'])"
      ],
      "metadata": {
        "id": "sjeWdsn9QVOa"
      },
      "execution_count": null,
      "outputs": []
    },
    {
      "cell_type": "code",
      "source": [
        "columns = test_QTV.columns"
      ],
      "metadata": {
        "id": "HsFt6c5aP0Ma"
      },
      "execution_count": null,
      "outputs": []
    },
    {
      "cell_type": "code",
      "source": [
        "# Fill Age at time of MRI scan with median (since it's skewed)\n",
        "test_QTV['MRI_Track_Age_at_Scan'].fillna(test_QTV[\"MRI_Track_Age_at_Scan\"].median(), inplace=True)\n",
        "\n",
        "# Fill all other numerical missing values with their respective column means\n",
        "for col in columns:\n",
        "    test_QTV[col].fillna(test_QTV[col].mean(), inplace=True)\n",
        "\n",
        "test_QTV.fillna(test_QTV.median(), inplace=True)\n",
        "\n",
        "# Confirm that no missing values remain\n",
        "print(test_QTV.isnull().sum().sum())\n"
      ],
      "metadata": {
        "colab": {
          "base_uri": "https://localhost:8080/"
        },
        "id": "ZJcTxeMdPqo8",
        "outputId": "7cea4f0b-fc6d-4c66-97d5-f232ec2e09f4"
      },
      "execution_count": null,
      "outputs": [
        {
          "output_type": "stream",
          "name": "stdout",
          "text": [
            "0\n"
          ]
        },
        {
          "output_type": "stream",
          "name": "stderr",
          "text": [
            "<ipython-input-102-aef5b38919a8>:2: FutureWarning: A value is trying to be set on a copy of a DataFrame or Series through chained assignment using an inplace method.\n",
            "The behavior will change in pandas 3.0. This inplace method will never work because the intermediate object on which we are setting values always behaves as a copy.\n",
            "\n",
            "For example, when doing 'df[col].method(value, inplace=True)', try using 'df.method({col: value}, inplace=True)' or df[col] = df[col].method(value) instead, to perform the operation inplace on the original object.\n",
            "\n",
            "\n",
            "  test_QTV['MRI_Track_Age_at_Scan'].fillna(test_QTV[\"MRI_Track_Age_at_Scan\"].median(), inplace=True)\n",
            "<ipython-input-102-aef5b38919a8>:6: FutureWarning: A value is trying to be set on a copy of a DataFrame or Series through chained assignment using an inplace method.\n",
            "The behavior will change in pandas 3.0. This inplace method will never work because the intermediate object on which we are setting values always behaves as a copy.\n",
            "\n",
            "For example, when doing 'df[col].method(value, inplace=True)', try using 'df.method({col: value}, inplace=True)' or df[col] = df[col].method(value) instead, to perform the operation inplace on the original object.\n",
            "\n",
            "\n",
            "  test_QTV[col].fillna(test_QTV[col].mean(), inplace=True)\n"
          ]
        }
      ]
    },
    {
      "cell_type": "code",
      "source": [
        "test_QTV.info()"
      ],
      "metadata": {
        "colab": {
          "base_uri": "https://localhost:8080/"
        },
        "id": "MOL_VhFLMhC0",
        "outputId": "b3f20be0-e76c-43c1-ce3d-29a38be48f4c"
      },
      "execution_count": null,
      "outputs": [
        {
          "output_type": "stream",
          "name": "stdout",
          "text": [
            "<class 'pandas.core.frame.DataFrame'>\n",
            "RangeIndex: 304 entries, 0 to 303\n",
            "Data columns (total 18 columns):\n",
            " #   Column                      Non-Null Count  Dtype  \n",
            "---  ------                      --------------  -----  \n",
            " 0   EHQ_EHQ_Total               304 non-null    float64\n",
            " 1   ColorVision_CV_Score        304 non-null    float64\n",
            " 2   APQ_P_APQ_P_CP              304 non-null    float64\n",
            " 3   APQ_P_APQ_P_ID              304 non-null    float64\n",
            " 4   APQ_P_APQ_P_INV             304 non-null    float64\n",
            " 5   APQ_P_APQ_P_OPD             304 non-null    float64\n",
            " 6   APQ_P_APQ_P_PM              304 non-null    float64\n",
            " 7   APQ_P_APQ_P_PP              304 non-null    float64\n",
            " 8   SDQ_SDQ_Conduct_Problems    304 non-null    float64\n",
            " 9   SDQ_SDQ_Difficulties_Total  304 non-null    float64\n",
            " 10  SDQ_SDQ_Emotional_Problems  304 non-null    float64\n",
            " 11  SDQ_SDQ_Externalizing       304 non-null    float64\n",
            " 12  SDQ_SDQ_Generating_Impact   304 non-null    float64\n",
            " 13  SDQ_SDQ_Hyperactivity       304 non-null    float64\n",
            " 14  SDQ_SDQ_Internalizing       304 non-null    float64\n",
            " 15  SDQ_SDQ_Peer_Problems       304 non-null    float64\n",
            " 16  SDQ_SDQ_Prosocial           304 non-null    float64\n",
            " 17  MRI_Track_Age_at_Scan       304 non-null    float64\n",
            "dtypes: float64(18)\n",
            "memory usage: 42.9 KB\n"
          ]
        }
      ]
    },
    {
      "cell_type": "code",
      "source": [
        "test_cat['PreInt_Demos_Fam_Child_Ethnicity'].fillna(3.0, inplace=True)\n",
        "test_cat['PreInt_Demos_Fam_Child_Race'].fillna(10.0, inplace=True)\n",
        "test_cat['Barratt_Barratt_P1_Edu'].fillna(0.0, inplace=True)\n",
        "test_cat['Barratt_Barratt_P2_Edu'].fillna(0.0, inplace=True)\n",
        "test_cat['Barratt_Barratt_P1_Occ'].fillna(50.0, inplace=True)\n",
        "test_cat['Barratt_Barratt_P2_Occ'].fillna(50.0, inplace=True)"
      ],
      "metadata": {
        "colab": {
          "base_uri": "https://localhost:8080/"
        },
        "collapsed": true,
        "id": "BBljB0_5MmFB",
        "outputId": "3da5efa0-bc89-45e2-9876-7e3ae4c5c796"
      },
      "execution_count": null,
      "outputs": [
        {
          "output_type": "stream",
          "name": "stderr",
          "text": [
            "<ipython-input-104-3c0a2f002f28>:1: FutureWarning: A value is trying to be set on a copy of a DataFrame or Series through chained assignment using an inplace method.\n",
            "The behavior will change in pandas 3.0. This inplace method will never work because the intermediate object on which we are setting values always behaves as a copy.\n",
            "\n",
            "For example, when doing 'df[col].method(value, inplace=True)', try using 'df.method({col: value}, inplace=True)' or df[col] = df[col].method(value) instead, to perform the operation inplace on the original object.\n",
            "\n",
            "\n",
            "  test_cat['PreInt_Demos_Fam_Child_Ethnicity'].fillna(3.0, inplace=True)\n",
            "<ipython-input-104-3c0a2f002f28>:2: FutureWarning: A value is trying to be set on a copy of a DataFrame or Series through chained assignment using an inplace method.\n",
            "The behavior will change in pandas 3.0. This inplace method will never work because the intermediate object on which we are setting values always behaves as a copy.\n",
            "\n",
            "For example, when doing 'df[col].method(value, inplace=True)', try using 'df.method({col: value}, inplace=True)' or df[col] = df[col].method(value) instead, to perform the operation inplace on the original object.\n",
            "\n",
            "\n",
            "  test_cat['PreInt_Demos_Fam_Child_Race'].fillna(10.0, inplace=True)\n",
            "<ipython-input-104-3c0a2f002f28>:3: FutureWarning: A value is trying to be set on a copy of a DataFrame or Series through chained assignment using an inplace method.\n",
            "The behavior will change in pandas 3.0. This inplace method will never work because the intermediate object on which we are setting values always behaves as a copy.\n",
            "\n",
            "For example, when doing 'df[col].method(value, inplace=True)', try using 'df.method({col: value}, inplace=True)' or df[col] = df[col].method(value) instead, to perform the operation inplace on the original object.\n",
            "\n",
            "\n",
            "  test_cat['Barratt_Barratt_P1_Edu'].fillna(0.0, inplace=True)\n",
            "<ipython-input-104-3c0a2f002f28>:4: FutureWarning: A value is trying to be set on a copy of a DataFrame or Series through chained assignment using an inplace method.\n",
            "The behavior will change in pandas 3.0. This inplace method will never work because the intermediate object on which we are setting values always behaves as a copy.\n",
            "\n",
            "For example, when doing 'df[col].method(value, inplace=True)', try using 'df.method({col: value}, inplace=True)' or df[col] = df[col].method(value) instead, to perform the operation inplace on the original object.\n",
            "\n",
            "\n",
            "  test_cat['Barratt_Barratt_P2_Edu'].fillna(0.0, inplace=True)\n",
            "<ipython-input-104-3c0a2f002f28>:5: FutureWarning: A value is trying to be set on a copy of a DataFrame or Series through chained assignment using an inplace method.\n",
            "The behavior will change in pandas 3.0. This inplace method will never work because the intermediate object on which we are setting values always behaves as a copy.\n",
            "\n",
            "For example, when doing 'df[col].method(value, inplace=True)', try using 'df.method({col: value}, inplace=True)' or df[col] = df[col].method(value) instead, to perform the operation inplace on the original object.\n",
            "\n",
            "\n",
            "  test_cat['Barratt_Barratt_P1_Occ'].fillna(50.0, inplace=True)\n",
            "<ipython-input-104-3c0a2f002f28>:6: FutureWarning: A value is trying to be set on a copy of a DataFrame or Series through chained assignment using an inplace method.\n",
            "The behavior will change in pandas 3.0. This inplace method will never work because the intermediate object on which we are setting values always behaves as a copy.\n",
            "\n",
            "For example, when doing 'df[col].method(value, inplace=True)', try using 'df.method({col: value}, inplace=True)' or df[col] = df[col].method(value) instead, to perform the operation inplace on the original object.\n",
            "\n",
            "\n",
            "  test_cat['Barratt_Barratt_P2_Occ'].fillna(50.0, inplace=True)\n"
          ]
        }
      ]
    },
    {
      "cell_type": "code",
      "source": [
        "test_QTV = test_QTV.drop(columns=high_corr_features)\n"
      ],
      "metadata": {
        "id": "RCkubhQUuRQW"
      },
      "execution_count": null,
      "outputs": []
    },
    {
      "cell_type": "code",
      "execution_count": null,
      "metadata": {
        "id": "t_Rj9yw5MN7S",
        "colab": {
          "base_uri": "https://localhost:8080/"
        },
        "outputId": "4c3523e2-aae7-4850-af92-43c37ed0c14c"
      },
      "outputs": [
        {
          "output_type": "stream",
          "name": "stdout",
          "text": [
            "Test feature tensor shape: torch.Size([304, 19925])\n",
            "Model input shape: torch.Size([1213, 19925])\n"
          ]
        }
      ],
      "source": [
        "test_QTV['participant_id'] = QTV_PAR_ID\n",
        "# Merge datasets on participant_id\n",
        "test_cat_FCM_df = pd.merge(test_cat, test_FCM, on='participant_id')\n",
        "test_df = pd.merge(test_cat_FCM_df, test_QTV, on='participant_id')\n",
        "\n",
        "# Extract participant IDs before modifying them\n",
        "test_participant_ids = test_df['participant_id'].tolist()  # Keep original IDs for final predictions\n",
        "\n",
        "# Drop participant_id from features since it's not a useful feature\n",
        "test_features = test_df.drop(columns=['participant_id'])\n",
        "\n",
        "test_features_tensors = torch.tensor(test_features.values, dtype=torch.float32)\n",
        "\n",
        "# Ensure tensor shape matches model input\n",
        "print(\"Test feature tensor shape:\", test_features_tensors.shape)\n",
        "print(\"Model input shape:\", feature_tensors.shape)\n"
      ]
    },
    {
      "cell_type": "code",
      "execution_count": null,
      "metadata": {
        "id": "8gV-4phWOWJY",
        "colab": {
          "base_uri": "https://localhost:8080/",
          "height": 808
        },
        "outputId": "288e1d5e-8ab4-4611-ff4c-be35f2020798"
      },
      "outputs": [
        {
          "output_type": "display_data",
          "data": {
            "text/plain": [
              "<Figure size 1200x500 with 4 Axes>"
            ],
            "image/png": "[encoded data removed]"
          },
          "metadata": {}
        },
        {
          "output_type": "stream",
          "name": "stdout",
          "text": [
            "ADHD Classification Report:\n",
            "              precision    recall  f1-score   support\n",
            "\n",
            "     No ADHD       1.00      1.00      1.00       382\n",
            "        ADHD       1.00      1.00      1.00       831\n",
            "\n",
            "    accuracy                           1.00      1213\n",
            "   macro avg       1.00      1.00      1.00      1213\n",
            "weighted avg       1.00      1.00      1.00      1213\n",
            "\n",
            "\n",
            "Sex Classification Report:\n",
            "              precision    recall  f1-score   support\n",
            "\n",
            "      Female       1.00      1.00      1.00       797\n",
            "        Male       1.00      1.00      1.00       416\n",
            "\n",
            "    accuracy                           1.00      1213\n",
            "   macro avg       1.00      1.00      1.00      1213\n",
            "weighted avg       1.00      1.00      1.00      1213\n",
            "\n"
          ]
        }
      ],
      "source": [
        "model.eval()\n",
        "\n",
        "with torch.no_grad():\n",
        "    # Making predictions\n",
        "    adhd_pred, sex_pred = model(feature_tensors)\n",
        "\n",
        "    # Convert predictions to binary (0 or 1) using 0.5 as threshold\n",
        "    adhd_pred_binary = (adhd_pred > 0.5).float()\n",
        "    sex_pred_binary = (sex_pred > 0.5).float()\n",
        "\n",
        "# Convert tensors to numpy arrays\n",
        "adhd_true = adhd_tensors.numpy()\n",
        "sex_true = sex_tensors.numpy()\n",
        "adhd_pred = adhd_pred_binary.numpy()\n",
        "sex_pred = sex_pred_binary.numpy()\n",
        "\n",
        "adhd_cm = confusion_matrix(adhd_true, adhd_pred)\n",
        "sex_cm = confusion_matrix(sex_true, sex_pred)\n",
        "\n",
        "# Plot confusion matrices\n",
        "fig, (ax1, ax2) = plt.subplots(1, 2, figsize=(12, 5))\n",
        "\n",
        "sns.heatmap(adhd_cm, annot=True, fmt='d', cmap='Blues', ax=ax1)\n",
        "ax1.set_title('ADHD Confusion Matrix')\n",
        "ax1.set_ylabel('True Label')\n",
        "ax1.set_xlabel('Predicted Label')\n",
        "\n",
        "sns.heatmap(sex_cm, annot=True, fmt='d', cmap='Blues', ax=ax2)\n",
        "ax2.set_title('Sex Confusion Matrix')\n",
        "ax2.set_ylabel('True Label')\n",
        "ax2.set_xlabel('Predicted Label')\n",
        "\n",
        "plt.tight_layout()\n",
        "plt.show()\n",
        "\n",
        "from sklearn.metrics import classification_report\n",
        "\n",
        "print(\"ADHD Classification Report:\")\n",
        "print(classification_report(adhd_true, adhd_pred, target_names=['No ADHD', 'ADHD']))\n",
        "\n",
        "print(\"\\nSex Classification Report:\")\n",
        "print(classification_report(sex_true, sex_pred, target_names=['Female', 'Male']))\n"
      ]
    },
    {
      "cell_type": "code",
      "execution_count": null,
      "metadata": {
        "id": "dtRQJCqMkotk",
        "colab": {
          "base_uri": "https://localhost:8080/"
        },
        "outputId": "0c17454a-01f6-42b4-9473-af6f1d4e96a4"
      },
      "outputs": [
        {
          "output_type": "stream",
          "name": "stdout",
          "text": [
            "  participant_id  predicted_adhd  predicted_sex\n",
            "0   Cfwaf5FX7jWK             0.0            1.0\n",
            "1   vhGrzmvA3Hjq             0.0            1.0\n",
            "2   ULliyEXjy4OV             0.0            1.0\n",
            "3   LZfeAb1xMtql             0.0            1.0\n",
            "4   EnFOUv0YK1RG             0.0            0.0\n"
          ]
        }
      ],
      "source": [
        "model.eval()\n",
        "\n",
        "# Make predictions on test dataset (no ADHD or Sex labels available)\n",
        "with torch.no_grad():\n",
        "    test_adhd_pred, test_sex_pred = model(test_features_tensors)\n",
        "\n",
        "    # Convert probabilities to binary predictions\n",
        "    test_adhd_labels = (test_adhd_pred > 0.5).float()\n",
        "    test_sex_labels = (test_sex_pred > 0.5).float()\n",
        "\n",
        "test_results = pd.DataFrame({\n",
        "    'participant_id': test_participant_ids,  # Ensure this matches the test set\n",
        "    'predicted_adhd': test_adhd_labels.squeeze().tolist(),\n",
        "    'predicted_sex': test_sex_labels.squeeze().tolist()\n",
        "})\n",
        "\n",
        "# Save predictions to CSV\n",
        "test_results.to_csv('submission.csv', index=False)\n",
        "\n",
        "print(test_results.head())\n"
      ]
    },
    {
      "cell_type": "code",
      "execution_count": null,
      "metadata": {
        "id": "CTty4WNmMvp0"
      },
      "outputs": [],
      "source": []
    }
  ],
  "metadata": {
    "colab": {
      "provenance": []
    },
    "kernelspec": {
      "display_name": "Python 3",
      "name": "python3"
    },
    "language_info": {
      "name": "python"
    }
  },
  "nbformat": 4,
  "nbformat_minor": 0
}